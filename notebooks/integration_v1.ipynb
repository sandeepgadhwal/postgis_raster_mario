{
 "cells": [
  {
   "cell_type": "code",
   "execution_count": 1,
   "metadata": {},
   "outputs": [],
   "source": [
    "%load_ext autoreload\n",
    "%autoreload 2"
   ]
  },
  {
   "cell_type": "code",
   "execution_count": null,
   "metadata": {},
   "outputs": [],
   "source": []
  },
  {
   "cell_type": "code",
   "execution_count": 2,
   "metadata": {},
   "outputs": [],
   "source": [
    "import os\n",
    "import sys "
   ]
  },
  {
   "cell_type": "code",
   "execution_count": 3,
   "metadata": {},
   "outputs": [],
   "source": [
    "sys.path.append(os.path.abspath('../src/'))"
   ]
  },
  {
   "cell_type": "code",
   "execution_count": null,
   "metadata": {},
   "outputs": [],
   "source": []
  },
  {
   "cell_type": "code",
   "execution_count": 4,
   "metadata": {},
   "outputs": [],
   "source": [
    "from postgis_raster_bridge import readDataByArea"
   ]
  },
  {
   "cell_type": "code",
   "execution_count": null,
   "metadata": {},
   "outputs": [],
   "source": []
  },
  {
   "cell_type": "code",
   "execution_count": null,
   "metadata": {},
   "outputs": [],
   "source": []
  },
  {
   "cell_type": "code",
   "execution_count": null,
   "metadata": {
    "scrolled": true
   },
   "outputs": [
    {
     "name": "stdout",
     "output_type": "stream",
     "text": [
      "--Processing attivita\n"
     ]
    }
   ],
   "source": [
    "readDataByArea(\n",
    "    latU=16.903489,\n",
    "    lonU=41.05911,\n",
    "    latD=16.821519,\n",
    "    lonD=41.152986,\n",
    "    tipoDati='tutti',\n",
    "    cellSize=25,\n",
    "    positive=1,\n",
    "    negative=0,\n",
    "    nodata=254,\n",
    "    out_srid=4326,\n",
    "    circle=False\n",
    ")"
   ]
  },
  {
   "cell_type": "code",
   "execution_count": null,
   "metadata": {},
   "outputs": [],
   "source": []
  },
  {
   "cell_type": "code",
   "execution_count": null,
   "metadata": {},
   "outputs": [],
   "source": []
  },
  {
   "cell_type": "code",
   "execution_count": 9,
   "metadata": {},
   "outputs": [
    {
     "name": "stdout",
     "output_type": "stream",
     "text": [
      "--Processing attivita\n",
      "\n",
      "                WITH \n",
      "                    \n",
      "        \n",
      "        q AS (\n",
      "            \n",
      "            SELECT ST_GeomFromText('POLYGON((16.821519 41.05911, 16.821519 41.152986, 16.903489 41.152986, 16.903489 41.05911, 16.821519 41.05911))', 4326) AS geom\n",
      "        \n",
      "        )\n",
      "    ,  \n",
      "        qp AS (\n",
      "            SELECT \n",
      "                ST_Transform(q.geom, 32632) as geom\n",
      "            FROM q\n",
      "        )\n",
      "    ,\n",
      "                    \n",
      "        q_ras AS (\n",
      "            SELECT\n",
      "                ST_Union(\n",
      "                    ST_AsRaster(\n",
      "                        q.geom,\n",
      "                        ( \n",
      "        SELECT ST_SetBandNoDataValue(ST_MakeEmptyRaster(382, 419, 16.821519, 41.152986, 0.00019609619029165923, 0.0002461398756614878, 0, 0, 4326), 254)\n",
      "    ),\n",
      "                        '8BUI'::text, \n",
      "                        0, \n",
      "                        254\n",
      "                    ),\n",
      "                    'Max'\n",
      "                ) AS ras\n",
      "            FROM q\n",
      "        )\n",
      "    ,\n",
      "                    \n",
      "        q_poly AS (\n",
      "            SELECT  \n",
      "                (pp).geom AS geom\n",
      "            FROM \n",
      "                (\n",
      "                    SELECT ST_PixelAsPolygons(\n",
      "                        q_ras.ras, \n",
      "                        1\n",
      "                    ) pp\n",
      "                    FROM q_ras\n",
      "                ) a\n",
      "        )\n",
      "    ,\n",
      "                    features AS (\n",
      "        SELECT \n",
      "            ic.pro_com as pro_com,\n",
      "            ic.comune as comune,\n",
      "            ST_Area(ST_Intersection(ic.wkb_geometry, qp.geom)) as area,\n",
      "            ST_Area(ic.wkb_geometry) as total_area,\n",
      "            ST_Transform(ic.wkb_geometry, 4326) as geom,\n",
      "            1 AS code\n",
      "        FROM                 \n",
      "            public.ist_comuni ic,                \n",
      "            qp\n",
      "        WHERE                 \n",
      "            ST_Intersects(qp.geom, ic.wkb_geometry)\n",
      "    ),\n",
      "                    \n",
      "                    data_point_1 AS (\n",
      "                        WITH d_ras AS (\n",
      "                            SELECT  \n",
      "                                ST_Union(\n",
      "                                    ST_AsRaster(\n",
      "                                        f.geom,\n",
      "                                        ( \n",
      "        SELECT ST_SetBandNoDataValue(ST_MakeEmptyRaster(382, 419, 16.821519, 41.152986, 0.00019609619029165923, 0.0002461398756614878, 0, 0, 4326), 254)\n",
      "    ),\n",
      "                                        '8BUI'::text, \n",
      "                                        1, \n",
      "                                        0,\n",
      "                                        true\n",
      "                                    ),\n",
      "                                    'Max'\n",
      "                                ) AS ras\n",
      "                            FROM\n",
      "                                features f\n",
      "                            WHERE \n",
      "                                f.code=1\n",
      "                        )\n",
      "    \n",
      "                        SELECT \n",
      "                            ST_Collect(ST_Centroid((pp).geom)) as geom\n",
      "                        FROM\n",
      "                            (\n",
      "                                SELECT \n",
      "                                    ST_PixelAsPoints(d_ras.ras, 1) pp\n",
      "                                FROM d_ras\n",
      "                            ) a\n",
      "                        WHERE\n",
      "                            (pp).val=1\n",
      "                    )\n",
      "                ,\n",
      "                    \n",
      "                blank_ras AS (\n",
      "                    SELECT\n",
      "                            ST_AsRaster(\n",
      "                                q.geom,\n",
      "                                ( \n",
      "        SELECT ST_SetBandNoDataValue(ST_MakeEmptyRaster(382, 419, 16.821519, 41.152986, 0.00019609619029165923, 0.0002461398756614878, 0, 0, 4326), 254)\n",
      "    ),\n",
      "                                ARRAY['8BUI'::text], \n",
      "                                ARRAY[0], \n",
      "                                ARRAY[254]\n",
      "                            ) AS ras\n",
      "                    FROM q\n",
      "                )\n",
      "            ,        \n",
      "                    \n",
      "                parmaterized_ras AS (\n",
      "                    SELECT \n",
      "                    ST_SetValue(\n",
      "                        blank_ras.ras,\n",
      "                        1,\n",
      "                        data_point_1.geom,\n",
      "                        1\n",
      "                    )\n",
      "                 AS ras\n",
      "                    FROM blank_ras, data_point_1\n",
      "                )\n",
      "            ,\n",
      "    \n",
      "                out_raster AS (\n",
      "                    SELECT \n",
      "                ST_Union(\n",
      "                    p.ras,\n",
      "                    'Max'\n",
      "                ) \n",
      "             AS ras\n",
      "                    FROM\n",
      "                        parmaterized_ras p\n",
      "                )\n",
      "    \n",
      "                SELECT \n",
      "                    ST_AsTIFF(\n",
      "                        out_raster.ras,\n",
      "                        'LZW'\n",
      "                    ) as outraster\n",
      "                FROM out_raster\n",
      "            \n"
     ]
    },
    {
     "ename": "TypeError",
     "evalue": "exceptions must derive from BaseException",
     "output_type": "error",
     "traceback": [
      "\u001b[0;31m---------------------------------------------------------------------------\u001b[0m",
      "\u001b[0;31mTypeError\u001b[0m                                 Traceback (most recent call last)",
      "\u001b[0;32m<ipython-input-9-128405ef17a6>\u001b[0m in \u001b[0;36m<module>\u001b[0;34m\u001b[0m\n\u001b[1;32m     10\u001b[0m     \u001b[0mnodata\u001b[0m\u001b[0;34m=\u001b[0m\u001b[0;36m254\u001b[0m\u001b[0;34m,\u001b[0m\u001b[0;34m\u001b[0m\u001b[0;34m\u001b[0m\u001b[0m\n\u001b[1;32m     11\u001b[0m     \u001b[0mout_srid\u001b[0m\u001b[0;34m=\u001b[0m\u001b[0;36m4326\u001b[0m\u001b[0;34m,\u001b[0m\u001b[0;34m\u001b[0m\u001b[0;34m\u001b[0m\u001b[0m\n\u001b[0;32m---> 12\u001b[0;31m     \u001b[0mcircle\u001b[0m\u001b[0;34m=\u001b[0m\u001b[0;32mFalse\u001b[0m\u001b[0;34m\u001b[0m\u001b[0;34m\u001b[0m\u001b[0m\n\u001b[0m\u001b[1;32m     13\u001b[0m )\n",
      "\u001b[0;32m~/codebase/postgis_raster_mario/src/postgis_raster_bridge/main.py\u001b[0m in \u001b[0;36mreadDataByArea\u001b[0;34m(latU, lonU, latD, lonD, tipoDati, cellSize, positive, negative, nodata, out_srid, circle, debug)\u001b[0m\n\u001b[1;32m    421\u001b[0m             \u001b[0mstart_raster_query\u001b[0m \u001b[0;34m=\u001b[0m \u001b[0mtime\u001b[0m\u001b[0;34m.\u001b[0m\u001b[0mtime\u001b[0m\u001b[0;34m(\u001b[0m\u001b[0;34m)\u001b[0m\u001b[0;34m\u001b[0m\u001b[0;34m\u001b[0m\u001b[0m\n\u001b[1;32m    422\u001b[0m             \u001b[0mprint\u001b[0m\u001b[0;34m(\u001b[0m\u001b[0mout_raster_query\u001b[0m\u001b[0;34m)\u001b[0m\u001b[0;34m\u001b[0m\u001b[0;34m\u001b[0m\u001b[0m\n\u001b[0;32m--> 423\u001b[0;31m             \u001b[0;32mraise\u001b[0m \u001b[0;32mNone\u001b[0m\u001b[0;34m\u001b[0m\u001b[0;34m\u001b[0m\u001b[0m\n\u001b[0m\u001b[1;32m    424\u001b[0m             \u001b[0moutput_raster_content\u001b[0m \u001b[0;34m=\u001b[0m \u001b[0mquery_db\u001b[0m\u001b[0;34m(\u001b[0m\u001b[0mout_raster_query\u001b[0m\u001b[0;34m,\u001b[0m \u001b[0mcursor_factory\u001b[0m\u001b[0;34m=\u001b[0m\u001b[0;32mNone\u001b[0m\u001b[0;34m)\u001b[0m\u001b[0;34m[\u001b[0m\u001b[0;36m0\u001b[0m\u001b[0;34m]\u001b[0m\u001b[0;34m[\u001b[0m\u001b[0;36m0\u001b[0m\u001b[0;34m]\u001b[0m\u001b[0;34m\u001b[0m\u001b[0;34m\u001b[0m\u001b[0m\n\u001b[1;32m    425\u001b[0m             \u001b[0mtime_taken_raster_query\u001b[0m \u001b[0;34m=\u001b[0m \u001b[0mtime\u001b[0m\u001b[0;34m.\u001b[0m\u001b[0mtime\u001b[0m\u001b[0;34m(\u001b[0m\u001b[0;34m)\u001b[0m\u001b[0;34m-\u001b[0m\u001b[0mstart_raster_query\u001b[0m\u001b[0;34m\u001b[0m\u001b[0;34m\u001b[0m\u001b[0m\n",
      "\u001b[0;31mTypeError\u001b[0m: exceptions must derive from BaseException"
     ]
    }
   ],
   "source": [
    "readDataByArea(\n",
    "    latU=16.903489,\n",
    "    lonU=41.05911,\n",
    "    latD=16.821519,\n",
    "    lonD=41.152986,\n",
    "    tipoDati='attivita',\n",
    "    cellSize=25,\n",
    "    positive=1,\n",
    "    negative=0,\n",
    "    nodata=254,\n",
    "    out_srid=4326,\n",
    "    circle=False\n",
    ")"
   ]
  },
  {
   "cell_type": "code",
   "execution_count": null,
   "metadata": {},
   "outputs": [],
   "source": []
  },
  {
   "cell_type": "code",
   "execution_count": null,
   "metadata": {},
   "outputs": [],
   "source": []
  },
  {
   "cell_type": "code",
   "execution_count": null,
   "metadata": {},
   "outputs": [],
   "source": []
  },
  {
   "cell_type": "code",
   "execution_count": null,
   "metadata": {},
   "outputs": [],
   "source": []
  },
  {
   "cell_type": "code",
   "execution_count": null,
   "metadata": {},
   "outputs": [],
   "source": []
  }
 ],
 "metadata": {
  "kernelspec": {
   "display_name": "Python 3",
   "language": "python",
   "name": "python3"
  },
  "language_info": {
   "codemirror_mode": {
    "name": "ipython",
    "version": 3
   },
   "file_extension": ".py",
   "mimetype": "text/x-python",
   "name": "python",
   "nbconvert_exporter": "python",
   "pygments_lexer": "ipython3",
   "version": "3.7.7"
  }
 },
 "nbformat": 4,
 "nbformat_minor": 4
}
