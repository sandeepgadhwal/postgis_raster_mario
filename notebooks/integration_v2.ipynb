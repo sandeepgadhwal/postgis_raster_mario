{
 "cells": [
  {
   "cell_type": "code",
   "execution_count": 1,
   "metadata": {},
   "outputs": [],
   "source": [
    "%load_ext autoreload\n",
    "%autoreload 2"
   ]
  },
  {
   "cell_type": "code",
   "execution_count": null,
   "metadata": {},
   "outputs": [],
   "source": []
  },
  {
   "cell_type": "code",
   "execution_count": 2,
   "metadata": {},
   "outputs": [],
   "source": [
    "import os\n",
    "import sys "
   ]
  },
  {
   "cell_type": "code",
   "execution_count": 3,
   "metadata": {},
   "outputs": [],
   "source": [
    "sys.path.append(os.path.abspath('../src/'))"
   ]
  },
  {
   "cell_type": "code",
   "execution_count": null,
   "metadata": {},
   "outputs": [],
   "source": []
  },
  {
   "cell_type": "code",
   "execution_count": 4,
   "metadata": {},
   "outputs": [],
   "source": [
    "from postgis_raster_bridge import readDataByArea"
   ]
  },
  {
   "cell_type": "code",
   "execution_count": null,
   "metadata": {},
   "outputs": [],
   "source": []
  },
  {
   "cell_type": "code",
   "execution_count": null,
   "metadata": {},
   "outputs": [],
   "source": []
  },
  {
   "cell_type": "code",
   "execution_count": 5,
   "metadata": {
    "scrolled": true
   },
   "outputs": [
    {
     "name": "stdout",
     "output_type": "stream",
     "text": [
      "--Processing pericolositaFrane\n"
     ]
    },
    {
     "data": {
      "text/plain": [
       "{'jobId': 55,\n",
       " 'parameters': {'latU': 16.903489,\n",
       "  'lonU': 41.05911,\n",
       "  'latD': 16.821519,\n",
       "  'lonD': 41.152986,\n",
       "  'cellSize': 25,\n",
       "  'tipoDati': ['pericolositaFrane']},\n",
       " 'tipoDati': {'pericolositaFrane': {'ouputGeotiffFile': 'http://localhost:5000/sevara/v1/jobs/readDataByArea/55/pericolositaFrane.tiff',\n",
       "   'outputGeotiffFilepath': '/home/sandy/workspace/mario ricci/2-postgis2raster-sud-v2/sevara_jobs/55/pericolositaFrane.tiff',\n",
       "   'timeTakenInfoQuery': 0.05057930946350098,\n",
       "   'timeTakenRasterQuery': 0.10232996940612793,\n",
       "   'time_units': 'Seconds',\n",
       "   'layers': [{'layer_id': 1,\n",
       "     'layer_name': 'Molto elevata P4',\n",
       "     'table_name': 'isp_frane',\n",
       "     'layer_area': 24984.9337719561},\n",
       "    {'layer_id': 2,\n",
       "     'layer_name': 'Elevata P3',\n",
       "     'table_name': 'isp_frane',\n",
       "     'layer_area': 37479.6671044692}],\n",
       "   'total_area': 62464.6008764253,\n",
       "   'rasterInfo': {'cellSizeX_Meters': 25,\n",
       "    'cellSizeY_meters': 25,\n",
       "    'cellSizeX_dd': 0.00019609619029165923,\n",
       "    'cellSizeY_dd': 0.0002461398756614878,\n",
       "    'Rows': 419,\n",
       "    'Cols': 382,\n",
       "    'Bands': 2}}},\n",
       " 'outputsToProduce': ['pericolositaFrane'],\n",
       " 'rasterInfoCommon': {'cellSizeX_Meters': 25,\n",
       "  'cellSizeY_meters': 25,\n",
       "  'cellSizeX_dd': 0.00019609619029165923,\n",
       "  'cellSizeY_dd': 0.0002461398756614878,\n",
       "  'Rows': 419,\n",
       "  'Cols': 382},\n",
       " 'time_taken_total': 0.23088836669921875,\n",
       " 'time_units': 'Seconds'}"
      ]
     },
     "execution_count": 5,
     "metadata": {},
     "output_type": "execute_result"
    }
   ],
   "source": [
    "readDataByArea(\n",
    "    latU=16.903489,\n",
    "    lonU=41.05911,\n",
    "    latD=16.821519,\n",
    "    lonD=41.152986,\n",
    "    tipoDati='pericolositaFrane',\n",
    "    cellSize=25,\n",
    "    positive=1,\n",
    "    negative=0,\n",
    "    nodata=254,\n",
    "    out_srid=4326,\n",
    "    circle=False\n",
    ")"
   ]
  },
  {
   "cell_type": "code",
   "execution_count": null,
   "metadata": {},
   "outputs": [],
   "source": []
  },
  {
   "cell_type": "code",
   "execution_count": 6,
   "metadata": {
    "scrolled": true
   },
   "outputs": [
    {
     "name": "stdout",
     "output_type": "stream",
     "text": [
      "--Processing pericolositaIdraulica\n"
     ]
    },
    {
     "data": {
      "text/plain": [
       "{'jobId': 56,\n",
       " 'parameters': {'latU': 16.903489,\n",
       "  'lonU': 41.05911,\n",
       "  'latD': 16.821519,\n",
       "  'lonD': 41.152986,\n",
       "  'cellSize': 25,\n",
       "  'tipoDati': ['pericolositaIdraulica']},\n",
       " 'tipoDati': {'pericolositaIdraulica': {'ouputGeotiffFile': 'http://localhost:5000/sevara/v1/jobs/readDataByArea/56/pericolositaIdraulica.tiff',\n",
       "   'outputGeotiffFilepath': '/home/sandy/workspace/mario ricci/2-postgis2raster-sud-v2/sevara_jobs/56/pericolositaIdraulica.tiff',\n",
       "   'timeTakenInfoQuery': 0.19011998176574707,\n",
       "   'timeTakenRasterQuery': 0.5094354152679443,\n",
       "   'time_units': 'Seconds',\n",
       "   'layers': [{'layer_id': 1,\n",
       "     'layer_name': \"Aree a pericolosita' idraulica bassa P1\",\n",
       "     'table_name': 'isp_idraulica_p1',\n",
       "     'layer_area': 3448352.33322054},\n",
       "    {'layer_id': 2,\n",
       "     'layer_name': \"Aree a pericolosita' idraulica media P2\",\n",
       "     'table_name': 'isp_idraulica_p2',\n",
       "     'layer_area': 3288775.33317481},\n",
       "    {'layer_id': 3,\n",
       "     'layer_name': \"Aree a pericolosita' idraulica elevata P3\",\n",
       "     'table_name': 'isp_idraulica_p3',\n",
       "     'layer_area': 2277311.81269796}],\n",
       "   'total_area': 9014439.47909331,\n",
       "   'rasterInfo': {'cellSizeX_Meters': 25,\n",
       "    'cellSizeY_meters': 25,\n",
       "    'cellSizeX_dd': 0.00019609619029165923,\n",
       "    'cellSizeY_dd': 0.0002461398756614878,\n",
       "    'Rows': 419,\n",
       "    'Cols': 382,\n",
       "    'Bands': 3}}},\n",
       " 'outputsToProduce': ['pericolositaIdraulica'],\n",
       " 'rasterInfoCommon': {'cellSizeX_Meters': 25,\n",
       "  'cellSizeY_meters': 25,\n",
       "  'cellSizeX_dd': 0.00019609619029165923,\n",
       "  'cellSizeY_dd': 0.0002461398756614878,\n",
       "  'Rows': 419,\n",
       "  'Cols': 382},\n",
       " 'time_taken_total': 0.7543878555297852,\n",
       " 'time_units': 'Seconds'}"
      ]
     },
     "execution_count": 6,
     "metadata": {},
     "output_type": "execute_result"
    }
   ],
   "source": [
    "readDataByArea(\n",
    "    latU=16.903489,\n",
    "    lonU=41.05911,\n",
    "    latD=16.821519,\n",
    "    lonD=41.152986,\n",
    "    tipoDati='pericolositaIdraulica',\n",
    "    cellSize=25,\n",
    "    positive=1,\n",
    "    negative=0,\n",
    "    nodata=254,\n",
    "    out_srid=4326,\n",
    "    circle=False\n",
    ")"
   ]
  },
  {
   "cell_type": "code",
   "execution_count": null,
   "metadata": {},
   "outputs": [],
   "source": []
  },
  {
   "cell_type": "code",
   "execution_count": null,
   "metadata": {},
   "outputs": [],
   "source": []
  },
  {
   "cell_type": "code",
   "execution_count": null,
   "metadata": {},
   "outputs": [],
   "source": []
  },
  {
   "cell_type": "code",
   "execution_count": null,
   "metadata": {},
   "outputs": [],
   "source": []
  },
  {
   "cell_type": "code",
   "execution_count": null,
   "metadata": {},
   "outputs": [],
   "source": []
  }
 ],
 "metadata": {
  "kernelspec": {
   "display_name": "Python 3",
   "language": "python",
   "name": "python3"
  },
  "language_info": {
   "codemirror_mode": {
    "name": "ipython",
    "version": 3
   },
   "file_extension": ".py",
   "mimetype": "text/x-python",
   "name": "python",
   "nbconvert_exporter": "python",
   "pygments_lexer": "ipython3",
   "version": "3.7.7"
  }
 },
 "nbformat": 4,
 "nbformat_minor": 4
}
