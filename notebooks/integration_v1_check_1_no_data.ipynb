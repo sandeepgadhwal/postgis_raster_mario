{
 "cells": [
  {
   "cell_type": "code",
   "execution_count": 1,
   "metadata": {},
   "outputs": [],
   "source": [
    "%load_ext autoreload\n",
    "%autoreload 2"
   ]
  },
  {
   "cell_type": "code",
   "execution_count": null,
   "metadata": {},
   "outputs": [],
   "source": []
  },
  {
   "cell_type": "code",
   "execution_count": 2,
   "metadata": {},
   "outputs": [],
   "source": [
    "import os\n",
    "import sys "
   ]
  },
  {
   "cell_type": "code",
   "execution_count": 3,
   "metadata": {},
   "outputs": [],
   "source": [
    "sys.path.append(os.path.abspath('../src/'))"
   ]
  },
  {
   "cell_type": "code",
   "execution_count": null,
   "metadata": {},
   "outputs": [],
   "source": []
  },
  {
   "cell_type": "code",
   "execution_count": 4,
   "metadata": {},
   "outputs": [],
   "source": [
    "from postgis_raster_bridge import readDataByArea"
   ]
  },
  {
   "cell_type": "code",
   "execution_count": null,
   "metadata": {},
   "outputs": [],
   "source": []
  },
  {
   "cell_type": "code",
   "execution_count": null,
   "metadata": {},
   "outputs": [],
   "source": []
  },
  {
   "cell_type": "code",
   "execution_count": 8,
   "metadata": {
    "scrolled": true
   },
   "outputs": [
    {
     "name": "stdout",
     "output_type": "stream",
     "text": [
      "--Processing superficieEdificato\n",
      "--Processing superficieAreeServizio\n",
      "--Processing struttureVarie\n"
     ]
    },
    {
     "data": {
      "text/plain": [
       "{'jobId': 6,\n",
       " 'parameters': {'latU': 16.903489,\n",
       "  'lonU': 41.0591,\n",
       "  'latD': 16.90348,\n",
       "  'lonD': 41.05911,\n",
       "  'cellSize': 1000.0,\n",
       "  'tipoDati': ['tutti']},\n",
       " 'tipoDati': {'superficieEdificato': {'ouputGeotiffFile': 'http://localhost:5000/sevara/v1/jobs/readDataByArea/6/superficieEdificato_nodata.tiff',\n",
       "   'outputGeotiffFilepath': '/home/sandy/workspace/mario ricci/2-postgis2raster-sud-v2/sevara_jobs/6/superficieEdificato_nodata.tiff',\n",
       "   'timeTakenInfoQuery': 0.016871929168701172,\n",
       "   'timeTakenRasterQuery': 0,\n",
       "   'time_units': 'Seconds',\n",
       "   'layers': [],\n",
       "   'rasterInfo': {'cellSizeX_Meters': 1000.0,\n",
       "    'cellSizeY_meters': 1000.0,\n",
       "    'cellSizeX_dd': 0.008084837565167001,\n",
       "    'cellSizeY_dd': 0.009550048702454106,\n",
       "    'Rows': 1,\n",
       "    'Cols': 1,\n",
       "    'Bands': 0}},\n",
       "  'superficieAreeServizio': {'ouputGeotiffFile': 'http://localhost:5000/sevara/v1/jobs/readDataByArea/6/superficieAreeServizio_nodata.tiff',\n",
       "   'outputGeotiffFilepath': '/home/sandy/workspace/mario ricci/2-postgis2raster-sud-v2/sevara_jobs/6/superficieAreeServizio_nodata.tiff',\n",
       "   'timeTakenInfoQuery': 0.01675868034362793,\n",
       "   'timeTakenRasterQuery': 0,\n",
       "   'time_units': 'Seconds',\n",
       "   'layers': [],\n",
       "   'rasterInfo': {'cellSizeX_Meters': 1000.0,\n",
       "    'cellSizeY_meters': 1000.0,\n",
       "    'cellSizeX_dd': 0.008084837565167001,\n",
       "    'cellSizeY_dd': 0.009550048702454106,\n",
       "    'Rows': 1,\n",
       "    'Cols': 1,\n",
       "    'Bands': 0}},\n",
       "  'struttureVarie': {'ouputGeotiffFile': 'http://localhost:5000/sevara/v1/jobs/readDataByArea/6/struttureVarie_nodata.tiff',\n",
       "   'outputGeotiffFilepath': '/home/sandy/workspace/mario ricci/2-postgis2raster-sud-v2/sevara_jobs/6/struttureVarie_nodata.tiff',\n",
       "   'timeTakenInfoQuery': 0.03893852233886719,\n",
       "   'timeTakenRasterQuery': 0,\n",
       "   'time_units': 'Seconds',\n",
       "   'layers': [],\n",
       "   'rasterInfo': {'cellSizeX_Meters': 1000.0,\n",
       "    'cellSizeY_meters': 1000.0,\n",
       "    'cellSizeX_dd': 0.008084837565167001,\n",
       "    'cellSizeY_dd': 0.009550048702454106,\n",
       "    'Rows': 1,\n",
       "    'Cols': 1,\n",
       "    'Bands': 0}}},\n",
       " 'outputsToProduce': ['superficieEdificato',\n",
       "  'superficieAreeServizio',\n",
       "  'struttureVarie'],\n",
       " 'rasterInfoCommon': {'cellSizeX_Meters': 1000.0,\n",
       "  'cellSizeY_meters': 1000.0,\n",
       "  'cellSizeX_dd': 0.008084837565167001,\n",
       "  'cellSizeY_dd': 0.009550048702454106,\n",
       "  'Rows': 1,\n",
       "  'Cols': 1},\n",
       " 'time_taken_total': 0.17053508758544922,\n",
       " 'time_units': 'Seconds'}"
      ]
     },
     "execution_count": 8,
     "metadata": {},
     "output_type": "execute_result"
    }
   ],
   "source": [
    "readDataByArea(\n",
    "    latU=16.903489,\n",
    "    lonU=41.0591,\n",
    "    latD=16.90348,\n",
    "    lonD=41.05911,\n",
    "    tipoDati='tutti',\n",
    "    cellSize=1000.0,\n",
    "    positive=1,\n",
    "    negative=0,\n",
    "    nodata=254,\n",
    "    out_srid=4326,\n",
    "    circle=False\n",
    ")"
   ]
  },
  {
   "cell_type": "code",
   "execution_count": null,
   "metadata": {},
   "outputs": [],
   "source": []
  },
  {
   "cell_type": "code",
   "execution_count": null,
   "metadata": {},
   "outputs": [],
   "source": []
  },
  {
   "cell_type": "code",
   "execution_count": null,
   "metadata": {},
   "outputs": [],
   "source": []
  },
  {
   "cell_type": "code",
   "execution_count": null,
   "metadata": {},
   "outputs": [],
   "source": []
  },
  {
   "cell_type": "code",
   "execution_count": null,
   "metadata": {},
   "outputs": [],
   "source": []
  },
  {
   "cell_type": "code",
   "execution_count": null,
   "metadata": {},
   "outputs": [],
   "source": []
  }
 ],
 "metadata": {
  "kernelspec": {
   "display_name": "Python 3",
   "language": "python",
   "name": "python3"
  },
  "language_info": {
   "codemirror_mode": {
    "name": "ipython",
    "version": 3
   },
   "file_extension": ".py",
   "mimetype": "text/x-python",
   "name": "python",
   "nbconvert_exporter": "python",
   "pygments_lexer": "ipython3",
   "version": "3.7.7"
  }
 },
 "nbformat": 4,
 "nbformat_minor": 4
}
