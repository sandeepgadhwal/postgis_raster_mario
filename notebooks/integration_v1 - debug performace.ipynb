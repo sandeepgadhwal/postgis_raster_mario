{
 "cells": [
  {
   "cell_type": "code",
   "execution_count": 1,
   "metadata": {},
   "outputs": [],
   "source": [
    "%load_ext autoreload\n",
    "%autoreload 2"
   ]
  },
  {
   "cell_type": "code",
   "execution_count": null,
   "metadata": {},
   "outputs": [],
   "source": []
  },
  {
   "cell_type": "code",
   "execution_count": 2,
   "metadata": {},
   "outputs": [],
   "source": [
    "import os\n",
    "import sys "
   ]
  },
  {
   "cell_type": "code",
   "execution_count": 3,
   "metadata": {},
   "outputs": [],
   "source": [
    "sys.path.append(os.path.abspath('../src/'))"
   ]
  },
  {
   "cell_type": "code",
   "execution_count": null,
   "metadata": {},
   "outputs": [],
   "source": []
  },
  {
   "cell_type": "code",
   "execution_count": 4,
   "metadata": {},
   "outputs": [],
   "source": [
    "from postgis_raster_bridge.database import query_db"
   ]
  },
  {
   "cell_type": "code",
   "execution_count": null,
   "metadata": {},
   "outputs": [],
   "source": []
  },
  {
   "cell_type": "code",
   "execution_count": 17,
   "metadata": {},
   "outputs": [],
   "source": [
    "out_raster_query = \"\"\"\n",
    " WITH \n",
    "                    \n",
    "        \n",
    "        q AS (\n",
    "            \n",
    "            SELECT ST_GeomFromText('POLYGON((16.821519 41.05911, 16.821519 41.152986, 16.903489 41.152986, 16.903489 41.05911, 16.821519 41.05911))', 4326) AS geom\n",
    "        \n",
    "        )\n",
    "    ,  \n",
    "        qp AS (\n",
    "            SELECT \n",
    "                ST_Transform(q.geom, 32632) as geom\n",
    "            FROM q\n",
    "        )\n",
    "    ,\n",
    "                    \n",
    "        q_ras AS (\n",
    "            SELECT\n",
    "                ST_Union(\n",
    "                    ST_AsRaster(\n",
    "                        q.geom,\n",
    "                        ( \n",
    "        SELECT ST_SetBandNoDataValue(ST_MakeEmptyRaster(382, 419, 16.821519, 41.152986, 0.00019609619029165923, 0.0002461398756614878, 0, 0, 4326), 254)\n",
    "    ),\n",
    "                        '8BUI'::text, \n",
    "                        0, \n",
    "                        254\n",
    "                    ),\n",
    "                    'Max'\n",
    "                ) AS ras\n",
    "            FROM q\n",
    "        )\n",
    "    ,\n",
    "                    \n",
    "        q_poly AS (\n",
    "            SELECT  \n",
    "                (pp).geom AS geom\n",
    "            FROM \n",
    "                (\n",
    "                    SELECT ST_PixelAsPolygons(\n",
    "                        q_ras.ras, \n",
    "                        1\n",
    "                    ) pp\n",
    "                    FROM q_ras\n",
    "                ) a\n",
    "        )\n",
    "    ,\n",
    "                    features AS (\n",
    "        SELECT \n",
    "            ic.pro_com as pro_com,\n",
    "            ic.comune as comune,\n",
    "            ST_Area(ST_Intersection(ic.wkb_geometry, qp.geom)) as area,\n",
    "            ST_Area(ic.wkb_geometry) as total_area,\n",
    "            ST_Transform(ic.wkb_geometry, 4326) as geom,\n",
    "            1 AS code\n",
    "        FROM                 \n",
    "            public.ist_comuni ic,                \n",
    "            qp\n",
    "        WHERE                 \n",
    "            ST_Intersects(qp.geom, ic.wkb_geometry)\n",
    "    ), \n",
    "\td_feat AS (\n",
    "                            SELECT \n",
    "\t\t\t\t\t\t\t\tST_Union(f.geom) as geom\n",
    "                            FROM\n",
    "                                features f\n",
    "                            WHERE \n",
    "                                f.code=1\n",
    "\t\t\t\t\t\t\t),\n",
    "\t\t\t\t\t\t\t\n",
    "                         d_ras AS (\n",
    "                            SELECT  \n",
    "                                ST_Union(\n",
    "                                    ST_AsRaster(\n",
    "                                        df.geom,\n",
    "                                        ( \n",
    "        SELECT ST_SetBandNoDataValue(ST_MakeEmptyRaster(382, 419, 16.821519, 41.152986, 0.00019609619029165923, 0.0002461398756614878, 0, 0, 4326), 254)\n",
    "    ),\n",
    "                                        '8BUI'::text, \n",
    "                                        1, \n",
    "                                        0,\n",
    "                                        true\n",
    "                                    ),\n",
    "                                    'Max'\n",
    "                                ) AS ras\n",
    "                            FROM\n",
    "                                d_feat df\n",
    "                        )\n",
    "\t\t\t\t\t\t\n",
    "-- \t\t\t\t\t\t,\n",
    "                    \n",
    "--                     data_point_1 AS (\n",
    "                        \n",
    "    \n",
    "--                         SELECT \n",
    "--                             ST_Collect(ST_Centroid((pp).geom)) as geom\n",
    "--                         FROM\n",
    "--                             (\n",
    "--                                 SELECT \n",
    "--                                     ST_PixelAsPoints(d_ras.ras, 1) pp\n",
    "--                                 FROM d_ras\n",
    "--                             ) a\n",
    "--                         WHERE\n",
    "--                             (pp).val=1\n",
    "--                     )\n",
    "                \n",
    "               \n",
    "-- \t\tSELECT COUNT(t.d) \n",
    "-- \t\t\tFROM ( \n",
    "-- \t\tSELECT ST_Dump(geom) as d from data_point_1 ) t\t\t\t\t\n",
    "\t\t\t\t\n",
    "\n",
    ", out_raster AS ( \n",
    "    SELECT  \n",
    "                                ST_Union(\n",
    "                                    ST_AsRaster(\n",
    "                                        df.geom,\n",
    "                                        ( \n",
    "        SELECT ST_SetBandNoDataValue(ST_MakeEmptyRaster(382, 419, 16.821519, 41.152986, 0.00019609619029165923, 0.0002461398756614878, 0, 0, 4326), 254)\n",
    "    ),\n",
    "                                        '8BUI'::text, \n",
    "                                        1, \n",
    "                                        0,\n",
    "                                        true\n",
    "                                    ),\n",
    "                                    'Max'\n",
    "                                ) AS ras\n",
    "                            FROM\n",
    "                                d_feat df\n",
    ")\n",
    "\n",
    "                SELECT \n",
    "                    ST_AsTIFF(\n",
    "                        out_raster.ras,\n",
    "                        'LZW'\n",
    "                    ) as outraster\n",
    "                FROM out_raster\n",
    "\"\"\""
   ]
  },
  {
   "cell_type": "code",
   "execution_count": 18,
   "metadata": {},
   "outputs": [],
   "source": [
    "output_raster_content = output_raster_content = query_db(out_raster_query, cursor_factory=None)[0][0]"
   ]
  },
  {
   "cell_type": "code",
   "execution_count": 20,
   "metadata": {},
   "outputs": [],
   "source": [
    "output_raster_filepath = str(os.path.abspath(r\"test/test.tiff\"))"
   ]
  },
  {
   "cell_type": "code",
   "execution_count": 21,
   "metadata": {},
   "outputs": [],
   "source": [
    "# FLush Raster to Disk\n",
    "with open(output_raster_filepath, 'wb') as f:\n",
    "    f.write(bytes(output_raster_content))"
   ]
  },
  {
   "cell_type": "code",
   "execution_count": null,
   "metadata": {},
   "outputs": [],
   "source": []
  },
  {
   "cell_type": "code",
   "execution_count": null,
   "metadata": {},
   "outputs": [],
   "source": []
  },
  {
   "cell_type": "code",
   "execution_count": null,
   "metadata": {},
   "outputs": [],
   "source": []
  },
  {
   "cell_type": "code",
   "execution_count": null,
   "metadata": {},
   "outputs": [],
   "source": []
  },
  {
   "cell_type": "code",
   "execution_count": null,
   "metadata": {},
   "outputs": [],
   "source": []
  }
 ],
 "metadata": {
  "kernelspec": {
   "display_name": "Python 3",
   "language": "python",
   "name": "python3"
  },
  "language_info": {
   "codemirror_mode": {
    "name": "ipython",
    "version": 3
   },
   "file_extension": ".py",
   "mimetype": "text/x-python",
   "name": "python",
   "nbconvert_exporter": "python",
   "pygments_lexer": "ipython3",
   "version": "3.7.7"
  }
 },
 "nbformat": 4,
 "nbformat_minor": 4
}
